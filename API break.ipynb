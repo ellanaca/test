{
 "cells": [
  {
   "cell_type": "code",
   "execution_count": 10,
   "id": "2b9d31aa",
   "metadata": {},
   "outputs": [],
   "source": [
    "import requests"
   ]
  },
  {
   "cell_type": "code",
   "execution_count": 21,
   "id": "dcda313f",
   "metadata": {},
   "outputs": [
    {
     "data": {
      "text/plain": [
       "<Response [200]>"
      ]
     },
     "execution_count": 21,
     "metadata": {},
     "output_type": "execute_result"
    }
   ],
   "source": [
    "r = requests.get('https://breaking-bad-quotes.herokuapp.com/v1/quotes')\n",
    "r"
   ]
  },
  {
   "cell_type": "code",
   "execution_count": 22,
   "id": "dcf06974",
   "metadata": {},
   "outputs": [
    {
     "data": {
      "text/plain": [
       "b'[{\"quote\":\"Clearly, his taste in women is the same as his taste in lawyers.\",\"author\":\"Saul Goodman\"}]'"
      ]
     },
     "execution_count": 22,
     "metadata": {},
     "output_type": "execute_result"
    }
   ],
   "source": [
    "r.content\n",
    "#r.text ça marche aussi"
   ]
  },
  {
   "cell_type": "code",
   "execution_count": 23,
   "id": "5b0ecacd",
   "metadata": {},
   "outputs": [
    {
     "data": {
      "text/plain": [
       "'[{\"quote\":\"Clearly, his taste in women is the same as his taste in lawyers.\",\"author\":\"Saul Goodman\"}]'"
      ]
     },
     "execution_count": 23,
     "metadata": {},
     "output_type": "execute_result"
    }
   ],
   "source": [
    "r.text"
   ]
  },
  {
   "cell_type": "code",
   "execution_count": 19,
   "id": "35b2e234",
   "metadata": {},
   "outputs": [
    {
     "data": {
      "text/plain": [
       "<Response [200]>"
      ]
     },
     "execution_count": 19,
     "metadata": {},
     "output_type": "execute_result"
    }
   ],
   "source": [
    "s = requests.get(\"https://breaking-bad-quotes.herokuapp.com/v1/quotes/2\")\n",
    "s\n",
    "#si on change le chiffre "
   ]
  },
  {
   "cell_type": "code",
   "execution_count": 20,
   "id": "f303d5c7",
   "metadata": {
    "scrolled": true
   },
   "outputs": [
    {
     "data": {
      "text/plain": [
       "'[{\"quote\":\"All I can do is wait... for the cancer to come back.\",\"author\":\"Skyler White\"},{\"quote\":\"The one that says if I can\\'t kill you, you\\'ll sure as *beep* wish you were dead.\",\"author\":\"Jesse Pinkman\"}]'"
      ]
     },
     "execution_count": 20,
     "metadata": {},
     "output_type": "execute_result"
    }
   ],
   "source": [
    "s.text"
   ]
  },
  {
   "cell_type": "code",
   "execution_count": 25,
   "id": "f6720625",
   "metadata": {},
   "outputs": [
    {
     "data": {
      "text/plain": [
       "'[{\"quote\":\"You two suck at peddling meth.\",\"author\":\"Saul Goodman\"},{\"quote\":\"You need to stop focusing on the darkness behind you. The past is the past. Nothing can change what we’ve done.\",\"author\":\"Walter White\"},{\"quote\":\"If I ever get anal polyps, I\\'ll know what to name them.\",\"author\":\"Saul Goodman\"},{\"quote\":\"You don’t want a criminal lawyer. You want a criminal lawyer.\",\"author\":\"Jesse Pinkman\"},{\"quote\":\"Seriously? \\\\\"Hello Kitty\\\\\"?\",\"author\":\"Jesse Pinkman\"}]'"
      ]
     },
     "execution_count": 25,
     "metadata": {},
     "output_type": "execute_result"
    }
   ],
   "source": [
    "t = requests.get(\"https://breaking-bad-quotes.herokuapp.com/v1/quotes/5\")\n",
    "t.text\n",
    "#bien changer le chiffre"
   ]
  },
  {
   "cell_type": "code",
   "execution_count": 44,
   "id": "0b2749f5",
   "metadata": {},
   "outputs": [
    {
     "data": {
      "text/plain": [
       "([{'quote': 'So you do have a plan? Yeah, Mr. White! Yeah, science!',\n",
       "   'author': 'Jesse Pinkman'}],\n",
       " '[{\"quote\":\"So you do have a plan? Yeah, Mr. White! Yeah, science!\",\"author\":\"Jesse Pinkman\"}]',\n",
       " b'[{\"quote\":\"So you do have a plan? Yeah, Mr. White! Yeah, science!\",\"author\":\"Jesse Pinkman\"}]')"
      ]
     },
     "execution_count": 44,
     "metadata": {},
     "output_type": "execute_result"
    }
   ],
   "source": [
    "def bb(i):\n",
    "    url=\"https://breaking-bad-quotes.herokuapp.com\"\n",
    "    request=requests.get(f\"{url}/v1/quotes/{i}\")\n",
    "    return request.json(), request.text, request.content\n",
    "bb(1)"
   ]
  },
  {
   "cell_type": "code",
   "execution_count": 46,
   "id": "9c65552b",
   "metadata": {},
   "outputs": [
    {
     "data": {
      "text/html": [
       "<div>\n",
       "<style scoped>\n",
       "    .dataframe tbody tr th:only-of-type {\n",
       "        vertical-align: middle;\n",
       "    }\n",
       "\n",
       "    .dataframe tbody tr th {\n",
       "        vertical-align: top;\n",
       "    }\n",
       "\n",
       "    .dataframe thead th {\n",
       "        text-align: right;\n",
       "    }\n",
       "</style>\n",
       "<table border=\"1\" class=\"dataframe\">\n",
       "  <thead>\n",
       "    <tr style=\"text-align: right;\">\n",
       "      <th></th>\n",
       "      <th>0</th>\n",
       "    </tr>\n",
       "  </thead>\n",
       "  <tbody>\n",
       "    <tr>\n",
       "      <th>0</th>\n",
       "      <td>b'[{\"quote\":\"All I can do is wait... for the c...</td>\n",
       "    </tr>\n",
       "    <tr>\n",
       "      <th>1</th>\n",
       "      <td>b' kill you, you\\'ll sure as *beep* wish you w...</td>\n",
       "    </tr>\n",
       "  </tbody>\n",
       "</table>\n",
       "</div>"
      ],
      "text/plain": [
       "                                                   0\n",
       "0  b'[{\"quote\":\"All I can do is wait... for the c...\n",
       "1  b' kill you, you\\'ll sure as *beep* wish you w..."
      ]
     },
     "execution_count": 46,
     "metadata": {},
     "output_type": "execute_result"
    }
   ],
   "source": [
    "pd.DataFrame(s)\n",
    "#pour y mettre dans un df\n",
    "#pour ensuite ressortir ce dont on a besoin\n",
    "#voir postman, truc ecrit au tableau"
   ]
  }
 ],
 "metadata": {
  "kernelspec": {
   "display_name": "Python 3 (ipykernel)",
   "language": "python",
   "name": "python3"
  },
  "language_info": {
   "codemirror_mode": {
    "name": "ipython",
    "version": 3
   },
   "file_extension": ".py",
   "mimetype": "text/x-python",
   "name": "python",
   "nbconvert_exporter": "python",
   "pygments_lexer": "ipython3",
   "version": "3.8.12"
  },
  "toc": {
   "base_numbering": 1,
   "nav_menu": {},
   "number_sections": true,
   "sideBar": true,
   "skip_h1_title": false,
   "title_cell": "Table of Contents",
   "title_sidebar": "Contents",
   "toc_cell": false,
   "toc_position": {},
   "toc_section_display": true,
   "toc_window_display": false
  }
 },
 "nbformat": 4,
 "nbformat_minor": 5
}
